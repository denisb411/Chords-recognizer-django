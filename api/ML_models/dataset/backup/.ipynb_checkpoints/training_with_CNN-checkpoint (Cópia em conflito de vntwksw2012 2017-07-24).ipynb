{
 "cells": [
  {
   "cell_type": "code",
   "execution_count": 9,
   "metadata": {
    "collapsed": true
   },
   "outputs": [],
   "source": [
    "import tensorflow as tf\n",
    "import numpy as np\n",
    "\n",
    "class SoundCNN():\n",
    "\tdef __init__(self, n_outputs):\n",
    "\t\tself.x = tf.placeholder(tf.float32, [None, 512])\n",
    "\t\tself.y_ = tf.placeholder(tf.float32, [None, n_outputs])\n",
    "\n",
    "\t\tself.x_image = tf.reshape(self.x, [-1,32,32,1])\n",
    "\t\tself.W_conv1 = weight_variable([5, 5, 1, 32])\n",
    "\t\tself.b_conv1 = bias_variable([32])\n",
    "\t\tself.h_conv1 = tf.nn.relu(conv2d(self.x_image, self.W_conv1) + self.b_conv1)\n",
    "\t\tself.h_pool1 = max_pool_2x2(self.h_conv1)\n",
    "\t\tself.W_conv2 = weight_variable([5, 5, 32, 64])\n",
    "\t\tself.b_conv2 = bias_variable([64])\n",
    "\n",
    "\t\tself.h_conv2 = tf.nn.relu(conv2d(self.h_pool1, self.W_conv2) + self.b_conv2)\n",
    "\t\tself.h_pool2 = max_pool_2x2(self.h_conv2)\n",
    "\t\tself.W_fc1 = weight_variable([8 * 8 * 64, 512])\n",
    "\t\tself.b_fc1 = bias_variable([512])\n",
    "\n",
    "\t\tself.h_pool2_flat = tf.reshape(self.h_pool2, [-1, 8*8*64])\n",
    "\t\tself.h_fc1 = tf.nn.relu(tf.matmul(self.h_pool2_flat, self.W_fc1) + self.b_fc1)\n",
    "\t\tself.keep_prob = tf.placeholder(\"float\")\n",
    "\t\tself.h_fc1_drop = tf.nn.dropout(self.h_fc1, self.keep_prob)\n",
    "\t\tself.W_fc2 = weight_variable([512, n_outputs])\n",
    "\t\tself.b_fc2 = bias_variable([n_outputs])\n",
    "\t\tself.h_fc2 = tf.matmul(self.h_fc1_drop, self.W_fc2) + self.b_fc2\n",
    "\t\tself.y_conv=tf.nn.softmax(tf.matmul(self.h_fc1_drop, self.W_fc2) + self.b_fc2)\n",
    "\n",
    "\t\tself.cross_entropy = -tf.reduce_sum(self.y_*tf.log(tf.clip_by_value(self.y_conv,1e-10,1.0)))\n",
    "\t\tself.correct_prediction = tf.equal(tf.argmax(self.y_conv,1), tf.argmax(self.y_,1))\n",
    "\t\tself.accuracy = tf.reduce_mean(tf.cast(self.correct_prediction, \"float\"))\n",
    "\t\tself.train_step = tf.train.AdamOptimizer(1e-4).minimize(self.cross_entropy)\n",
    "\n",
    "def weight_variable(shape):\n",
    "\tinitial = tf.truncated_normal(shape, stddev=0.1)\n",
    "\treturn tf.Variable(initial)\n",
    "\n",
    "def bias_variable(shape):\n",
    "\tinitial = tf.constant(0.1, shape=shape)\n",
    "\treturn tf.Variable(initial)\n",
    "\n",
    "def conv2d(x, W):\n",
    "\treturn tf.nn.conv2d(x, W, strides=[1, 1, 1, 1], padding='SAME')\n",
    "\n",
    "def max_pool_2x2(x):\n",
    "\treturn tf.nn.max_pool(x, ksize=[1, 2, 2, 1],strides=[1, 2, 2, 1], padding='SAME')"
   ]
  },
  {
   "cell_type": "code",
   "execution_count": 36,
   "metadata": {
    "collapsed": true
   },
   "outputs": [],
   "source": [
    "def trainNetConv(maxIter):\n",
    "\n"
   ]
  },
  {
   "cell_type": "code",
   "execution_count": 11,
   "metadata": {},
   "outputs": [],
   "source": [
    "import os\n",
    "import pandas as pd\n",
    "import numpy as np\n",
    "\n",
    "processedData_path = \"preprocessedSamples.data\"\n",
    "\n",
    "if os.path.isfile(processedData_path): #if already preprocessed\n",
    "    df_new = pd.read_pickle(processedData_path)\n",
    "else:\n",
    "    for i in range(len(X)):\n",
    "        sample = np.array(X[i], dtype=np.float)\n",
    "        sample = sample*np.hamming(1024)\n",
    "        sample = np.abs(np.fft.rfft(sample))[1:]\n",
    "        sample = np.append(sample, y[i])\n",
    "        try:\n",
    "            df_new = np.vstack([df_new, sample])\n",
    "        except:\n",
    "            df_new = np.array(sample, dtype=np.float)\n",
    "        if i % 200 == 0:\n",
    "            print(i)\n",
    "            df_new[i]\n",
    "    \n",
    "    df_new = pd.DataFrame(df_new)\n",
    "    \n",
    "    df_new.to_pickle(processedData_path)"
   ]
  },
  {
   "cell_type": "code",
   "execution_count": 20,
   "metadata": {},
   "outputs": [
    {
     "name": "stdout",
     "output_type": "stream",
     "text": [
      "(8361, 512)\n",
      "[ 29.  46.  20. ...,   6.  15.  47.]\n"
     ]
    },
    {
     "data": {
      "image/png": "[encoded data removed]",
      "text/plain": [
       "<matplotlib.figure.Figure at 0xa2a352f748>"
      ]
     },
     "metadata": {},
     "output_type": "display_data"
    }
   ],
   "source": [
    "import matplotlib.pyplot as plt\n",
    "\n",
    "npArrayDF = np.array(df_new.iloc[:,:], dtype=np.float) #shuffle randomly all samples\n",
    "\n",
    "np.random.shuffle(npArrayDF)\n",
    "\n",
    "trainX = np.array(npArrayDF[:-3000,:-1], dtype=np.float)\n",
    "trainYa = np.array(npArrayDF[:-3000,-1], dtype=np.float)\n",
    "\n",
    "fullTrain = np.array(npArrayDF[:-3000,:], dtype=np.float)\n",
    "\n",
    "print(trainX.shape)\n",
    "print(trainYa)\n",
    "\n",
    "valX = np.array(npArrayDF[-3000:-1000,:-1], dtype=np.float)\n",
    "valY = np.array(npArrayDF[-3000:-1000,-1], dtype=np.float)\n",
    "\n",
    "testX = np.array(npArrayDF[-1000:,:-1], dtype=np.float)\n",
    "testY = np.array(npArrayDF[-1000:,-1], dtype=np.float)\n",
    "\n",
    "plt.plot(X_train[1])\n",
    "plt.show()"
   ]
  },
  {
   "cell_type": "code",
   "execution_count": 37,
   "metadata": {},
   "outputs": [
    {
     "name": "stdout",
     "output_type": "stream",
     "text": [
      "WARNING:tensorflow:From <ipython-input-36-cec1c0acf877>:5: initialize_all_variables (from tensorflow.python.ops.variables) is deprecated and will be removed after 2017-03-02.\n",
      "Instructions for updating:\n",
      "Use `tf.global_variables_initializer` instead.\n",
      "WARNING:tensorflow:From <ipython-input-36-cec1c0acf877>:6: all_variables (from tensorflow.python.ops.variables) is deprecated and will be removed after 2017-03-02.\n",
      "Instructions for updating:\n",
      "Please use tf.global_variables instead.\n"
     ]
    },
    {
     "ename": "IndexError",
     "evalue": "too many indices for array",
     "output_type": "error",
     "traceback": [
      "\u001b[1;31m---------------------------------------------------------------------------\u001b[0m",
      "\u001b[1;31mIndexError\u001b[0m                                Traceback (most recent call last)",
      "\u001b[1;32m<ipython-input-37-b53ae6e18e96>\u001b[0m in \u001b[0;36m<module>\u001b[1;34m()\u001b[0m\n\u001b[0;32m      1\u001b[0m \u001b[0mbatchSize\u001b[0m \u001b[1;33m=\u001b[0m \u001b[1;36m30\u001b[0m\u001b[1;33m\u001b[0m\u001b[0m\n\u001b[0;32m      2\u001b[0m \u001b[1;33m\u001b[0m\u001b[0m\n\u001b[1;32m----> 3\u001b[1;33m \u001b[0mtrainNetConv\u001b[0m\u001b[1;33m(\u001b[0m\u001b[1;36m20\u001b[0m\u001b[1;33m)\u001b[0m\u001b[1;33m\u001b[0m\u001b[0m\n\u001b[0m",
      "\u001b[1;32m<ipython-input-36-cec1c0acf877>\u001b[0m in \u001b[0;36mtrainNetConv\u001b[1;34m(maxIter)\u001b[0m\n\u001b[0;32m     10\u001b[0m                         \u001b[0mrnd_idx\u001b[0m \u001b[1;33m=\u001b[0m \u001b[0mnp\u001b[0m\u001b[1;33m.\u001b[0m\u001b[0mrandom\u001b[0m\u001b[1;33m.\u001b[0m\u001b[0mpermutation\u001b[0m\u001b[1;33m(\u001b[0m\u001b[0mlen\u001b[0m\u001b[1;33m(\u001b[0m\u001b[0mfullTrain\u001b[0m\u001b[1;33m)\u001b[0m\u001b[1;33m)\u001b[0m\u001b[1;33m\u001b[0m\u001b[0m\n\u001b[0;32m     11\u001b[0m                         \u001b[1;32mfor\u001b[0m \u001b[0mi\u001b[0m \u001b[1;32min\u001b[0m \u001b[0mnp\u001b[0m\u001b[1;33m.\u001b[0m\u001b[0marray_split\u001b[0m\u001b[1;33m(\u001b[0m\u001b[0mrnd_idx\u001b[0m\u001b[1;33m,\u001b[0m \u001b[0mlen\u001b[0m\u001b[1;33m(\u001b[0m\u001b[0mfullTrain\u001b[0m\u001b[1;33m)\u001b[0m \u001b[1;33m//\u001b[0m \u001b[0mbatchSize\u001b[0m\u001b[1;33m)\u001b[0m\u001b[1;33m:\u001b[0m\u001b[1;33m\u001b[0m\u001b[0m\n\u001b[1;32m---> 12\u001b[1;33m                                 \u001b[0mbatch\u001b[0m \u001b[1;33m=\u001b[0m \u001b[0mperms\u001b[0m\u001b[1;33m[\u001b[0m\u001b[0mi\u001b[0m \u001b[1;33m*\u001b[0m\u001b[0mbatchSize\u001b[0m\u001b[1;33m:\u001b[0m\u001b[1;33m(\u001b[0m\u001b[0mi\u001b[0m\u001b[1;33m+\u001b[0m\u001b[1;36m1\u001b[0m\u001b[1;33m)\u001b[0m \u001b[1;33m*\u001b[0m \u001b[0mbatchSize\u001b[0m\u001b[1;33m,\u001b[0m\u001b[1;33m:\u001b[0m\u001b[1;33m]\u001b[0m\u001b[1;33m\u001b[0m\u001b[0m\n\u001b[0m\u001b[0;32m     13\u001b[0m                                 \u001b[0mbatchX\u001b[0m\u001b[1;33m,\u001b[0m\u001b[0mbatchYa\u001b[0m \u001b[1;33m=\u001b[0m \u001b[0mnp\u001b[0m\u001b[1;33m.\u001b[0m\u001b[0mhsplit\u001b[0m\u001b[1;33m(\u001b[0m\u001b[0mbatch\u001b[0m\u001b[1;33m,\u001b[0m\u001b[1;33m[\u001b[0m\u001b[1;33m-\u001b[0m\u001b[1;36m1\u001b[0m\u001b[1;33m]\u001b[0m\u001b[1;33m)\u001b[0m\u001b[1;33m\u001b[0m\u001b[0m\n\u001b[0;32m     14\u001b[0m                                 \u001b[0mbatchY\u001b[0m \u001b[1;33m=\u001b[0m \u001b[0mutil\u001b[0m\u001b[1;33m.\u001b[0m\u001b[0moneHotIt\u001b[0m\u001b[1;33m(\u001b[0m\u001b[0mbatchYa\u001b[0m\u001b[1;33m)\u001b[0m\u001b[1;33m\u001b[0m\u001b[0m\n",
      "\u001b[1;31mIndexError\u001b[0m: too many indices for array"
     ]
    }
   ],
   "source": [
    "batchSize = 30\n",
    "n_outputs = 48\n",
    "\n",
    "myModel = SoundCNN(n_outputs)\n",
    "with tf.Session() as sess:\n",
    "    tf.initialize_all_variables().run()\n",
    "    saver = tf.train.Saver(tf.all_variables())\n",
    "    myIters = 0\n",
    "    #fullTrain = np.concatenate((trainX,trainYa),axis=1)\n",
    "    \n",
    "    \n",
    "    while myIters < maxIter:\n",
    "        rnd_idx = np.random.permutation(len(fullTrain))\n",
    "        for i in np.array_split(rnd_idx, len(fullTrain) // batchSize):\n",
    "            batch = perms[i *batchSize:(i+1) * batchSize,:]\n",
    "            batchX,batchYa = np.hsplit(batch,[-1])\n",
    "            batchY = util.oneHotIt(batchYa)\n",
    "            sess.run(myModel.train_step,feed_dict={myModel.x: batchX, myModel.y_: batchY, myModel.keep_prob: 0.5})\n",
    "            if myIters%100 == 0:\n",
    "                train_accuracy = myModel.accuracy.eval(session=sess,feed_dict={myModel.x:batchX, myModel.y_: batchY, myModel.keep_prob: 1.0})\n",
    "                print(\"Step %d, Training accuracy: %g\"%(myIters, train_accuracy))\n",
    "            if myIters%500 == 0:\n",
    "                val_accuracy = myModel.accuracy.eval(session=sess,feed_dict={myModel.x:valX, myModel.y_: valY, myModel.keep_prob: 1.0})\n",
    "                print(\"Step %d, Validation accuracy: %g\"%(myIters, val_accuracy))\n",
    "            myIters+= 1\n",
    "    test_accuracy = myModel.accuracy.eval(session=sess,feed_dict={myModel.x:testX, myModel.y_: testY, myModel.keep_prob: 1.0})\n",
    "    print(\"Test accuracy: %g\"%(test_accuracy))\n",
    "    save_path = saver.save(sess, \"./model.ckpt\")"
   ]
  },
  {
   "cell_type": "code",
   "execution_count": 27,
   "metadata": {},
   "outputs": [
    {
     "data": {
      "text/plain": [
       "array([5930, 7930, 7327, ...,  712, 6330, 7466])"
      ]
     },
     "execution_count": 27,
     "metadata": {},
     "output_type": "execute_result"
    }
   ],
   "source": [
    "perms = np.random.permutation(len(fullTrain))\n",
    "perms"
   ]
  },
  {
   "cell_type": "code",
   "execution_count": 28,
   "metadata": {},
   "outputs": [
    {
     "data": {
      "text/plain": [
       "278.7"
      ]
     },
     "execution_count": 28,
     "metadata": {},
     "output_type": "execute_result"
    }
   ],
   "source": [
    "perms.shape[0]/batchSize"
   ]
  },
  {
   "cell_type": "code",
   "execution_count": null,
   "metadata": {
    "collapsed": true
   },
   "outputs": [],
   "source": []
  }
 ],
 "metadata": {
  "kernelspec": {
   "display_name": "Python 3",
   "language": "python",
   "name": "python3"
  },
  "language_info": {
   "codemirror_mode": {
    "name": "ipython",
    "version": 3
   },
   "file_extension": ".py",
   "mimetype": "text/x-python",
   "name": "python",
   "nbconvert_exporter": "python",
   "pygments_lexer": "ipython3",
   "version": "3.6.1"
  }
 },
 "nbformat": 4,
 "nbformat_minor": 2
}
