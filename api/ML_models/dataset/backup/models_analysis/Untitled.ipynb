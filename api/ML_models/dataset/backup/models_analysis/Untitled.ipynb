{
 "cells": [
  {
   "cell_type": "code",
   "execution_count": 1,
   "metadata": {
    "collapsed": true
   },
   "outputs": [],
   "source": [
    "# To support both python 2 and python 3\n",
    "from __future__ import division, print_function, unicode_literals\n",
    "\n",
    "# Common imports\n",
    "import numpy as np\n",
    "import os\n",
    "\n",
    "# to make this notebook's output stable across runs\n",
    "def reset_graph(seed=42):\n",
    "    tf.reset_default_graph()\n",
    "    tf.set_random_seed(seed)\n",
    "    np.random.seed(seed)\n",
    "\n",
    "# To plot pretty figures\n",
    "%matplotlib inline\n",
    "import matplotlib\n",
    "import matplotlib.pyplot as plt\n",
    "plt.rcParams['axes.labelsize'] = 14\n",
    "plt.rcParams['xtick.labelsize'] = 12\n",
    "plt.rcParams['ytick.labelsize'] = 12\n",
    "\n",
    "# Where to save the figures\n",
    "PROJECT_ROOT_DIR = \".\"\n",
    "CHAPTER_ID = \"ann\"\n",
    "\n",
    "def save_fig(fig_id, tight_layout=True):\n",
    "    path = os.path.join(PROJECT_ROOT_DIR, \"images\", CHAPTER_ID, fig_id + \".png\")\n",
    "    print(\"Saving figure\", fig_id)\n",
    "    if tight_layout:\n",
    "        plt.tight_layout()\n",
    "    plt.savefig(path, format='png', dpi=300)"
   ]
  },
  {
   "cell_type": "code",
   "execution_count": 2,
   "metadata": {
    "collapsed": true
   },
   "outputs": [],
   "source": [
    "import numpy as np\n",
    "import pandas as pd\n",
    "import tensorflow as tf\n",
    "\n",
    "df = pd.read_csv('samples_nylonGuitar_1024_Mm7_R03.csv')\n",
    "\n",
    "X = np.array(df.iloc[:,:-1], dtype=np.float)\n",
    "y = np.array(df.iloc[:,-1], dtype=np.float)"
   ]
  },
  {
   "cell_type": "code",
   "execution_count": 3,
   "metadata": {
    "collapsed": true
   },
   "outputs": [],
   "source": [
    "import os\n",
    "\n",
    "processedData_path = \"preprocessedSamples.data\"\n",
    "\n",
    "if os.path.isfile(processedData_path): #if already preprocessed\n",
    "    df_new = pd.read_pickle(processedData_path)\n",
    "else:\n",
    "    for i in range(len(X)):\n",
    "        sample = np.array(X[i], dtype=np.float)\n",
    "        sample = sample*np.hamming(1024)\n",
    "        sample = np.abs(np.fft.rfft(sample))[1:]\n",
    "        sample = np.append(sample, y[i])\n",
    "        try:\n",
    "            df_new = np.vstack([df_new, sample])\n",
    "        except:\n",
    "            df_new = np.array(sample, dtype=np.float)\n",
    "        if i % 200 == 0:\n",
    "            print(i)\n",
    "            df_new[i]\n",
    "    \n",
    "    df_new = pd.DataFrame(df_new)\n",
    "    \n",
    "    df_new.to_pickle(processedData_path)"
   ]
  },
  {
   "cell_type": "code",
   "execution_count": 11,
   "metadata": {},
   "outputs": [
    {
     "name": "stdout",
     "output_type": "stream",
     "text": [
      "1.0\n",
      "0.0\n"
     ]
    },
    {
     "data": {
      "image/png": "[encoded data removed]",
      "text/plain": [
       "<matplotlib.figure.Figure at 0x23902d47668>"
      ]
     },
     "metadata": {},
     "output_type": "display_data"
    }
   ],
   "source": [
    "import matplotlib.pyplot as plt\n",
    "\n",
    "npArrayDF = np.array(df_new.iloc[:,:], dtype=np.float) #shuffle randomly all samples\n",
    "\n",
    "print(npArrayDF[0,-1])\n",
    "\n",
    "for i in range(len(npArrayDF)):\n",
    "    npArrayDF[i,-1] = (npArrayDF[i, -1]) - 1\n",
    "\n",
    "print(npArrayDF[0,-1])\n",
    "    \n",
    "np.random.shuffle(npArrayDF)\n",
    "\n",
    "X_train = np.array(npArrayDF[:-2000,:-1], dtype=np.float)\n",
    "y_train = np.array(npArrayDF[:-2000,-1], dtype=np.float)\n",
    "\n",
    "X_valid = np.array(npArrayDF[-2000:-1000,:-1], dtype=np.float)\n",
    "y_valid = np.array(npArrayDF[-2000:-1000,-1], dtype=np.float)\n",
    "\n",
    "plt.plot(X_train[1])\n",
    "plt.show()"
   ]
  },
  {
   "cell_type": "code",
   "execution_count": 34,
   "metadata": {
    "collapsed": true
   },
   "outputs": [],
   "source": [
    "reset_graph()\n",
    "\n",
    "n_inputs = 512\n",
    "n_hidden1 = 300\n",
    "n_hidden2 = 100\n",
    "n_outputs += 1\n",
    "\n",
    "def leaky_relu(alpha=0.01):\n",
    "    def parametrized_leaky_relu(z, name=None):\n",
    "        return tf.maximum(alpha * z, z, name=name)\n",
    "    return parametrized_leaky_relu\n",
    "\n",
    "X = tf.placeholder(tf.float32, shape=(None, n_inputs), name=\"X\")\n",
    "y = tf.placeholder(tf.int64, shape=(None), name=\"y\")"
   ]
  },
  {
   "cell_type": "code",
   "execution_count": 35,
   "metadata": {
    "collapsed": true
   },
   "outputs": [],
   "source": [
    "def neuron_layer(X, n_neurons, name, activation=None):\n",
    "    with tf.name_scope(name):\n",
    "        n_inputs = int(X.get_shape()[1])\n",
    "        stddev = 2 / np.sqrt(n_inputs)\n",
    "        init = tf.truncated_normal((n_inputs, n_neurons), stddev=stddev)\n",
    "        W = tf.Variable(init, name=\"kernel\")\n",
    "        b = tf.Variable(tf.zeros([n_neurons]), name=\"bias\")\n",
    "        Z = tf.matmul(X, W) + b\n",
    "        if activation is not None:\n",
    "            return activation(Z)\n",
    "        else:\n",
    "            return Z"
   ]
  },
  {
   "cell_type": "code",
   "execution_count": 36,
   "metadata": {
    "collapsed": true
   },
   "outputs": [],
   "source": [
    "with tf.name_scope(\"dnn\"):\n",
    "    hidden1 = neuron_layer(X, n_hidden1, name=\"hidden1\",\n",
    "                           activation=tf.nn.relu)\n",
    "    hidden2 = neuron_layer(hidden1, n_hidden2, name=\"hidden2\",\n",
    "                           activation=tf.nn.relu)\n",
    "    logits = neuron_layer(hidden2, n_outputs, name=\"outputs\")"
   ]
  },
  {
   "cell_type": "code",
   "execution_count": 37,
   "metadata": {
    "collapsed": true
   },
   "outputs": [],
   "source": [
    "with tf.name_scope(\"loss\"):\n",
    "    xentropy = tf.nn.sparse_softmax_cross_entropy_with_logits(labels=y,\n",
    "                                                              logits=logits)\n",
    "    loss = tf.reduce_mean(xentropy, name=\"loss\")"
   ]
  },
  {
   "cell_type": "code",
   "execution_count": 38,
   "metadata": {
    "collapsed": true
   },
   "outputs": [],
   "source": [
    "learning_rate = 0.01\n",
    "\n",
    "with tf.name_scope(\"train\"):\n",
    "    optimizer = tf.train.AdamOptimizer(learning_rate)\n",
    "    training_op = optimizer.minimize(loss)"
   ]
  },
  {
   "cell_type": "code",
   "execution_count": 39,
   "metadata": {
    "collapsed": true
   },
   "outputs": [],
   "source": [
    "with tf.name_scope(\"eval\"):\n",
    "    correct = tf.nn.in_top_k(logits, y, 1)\n",
    "    accuracy = tf.reduce_mean(tf.cast(correct, tf.float32))"
   ]
  },
  {
   "cell_type": "code",
   "execution_count": 40,
   "metadata": {},
   "outputs": [
    {
     "name": "stdout",
     "output_type": "stream",
     "text": [
      "0 Train accuracy: 0.940373 Test accuracy: 0.841\n",
      "1 Train accuracy: 0.985214 Test accuracy: 0.851\n",
      "2 Train accuracy: 0.990547 Test accuracy: 0.849\n",
      "3 Train accuracy: 0.993052 Test accuracy: 0.833\n",
      "4 Train accuracy: 0.99491 Test accuracy: 0.821\n",
      "5 Train accuracy: 0.897471 Test accuracy: 0.819\n",
      "6 Train accuracy: 0.972126 Test accuracy: 0.826\n",
      "7 Train accuracy: 0.98683 Test accuracy: 0.826\n",
      "8 Train accuracy: 0.992082 Test accuracy: 0.821\n",
      "9 Train accuracy: 0.995799 Test accuracy: 0.816\n",
      "10 Train accuracy: 0.437586 Test accuracy: 0.423\n",
      "11 Train accuracy: 0.855054 Test accuracy: 0.756\n",
      "12 Train accuracy: 0.919609 Test accuracy: 0.78\n",
      "13 Train accuracy: 0.949099 Test accuracy: 0.788\n",
      "14 Train accuracy: 0.965985 Test accuracy: 0.795\n",
      "15 Train accuracy: 0.977781 Test accuracy: 0.796\n",
      "16 Train accuracy: 0.93601 Test accuracy: 0.793\n",
      "17 Train accuracy: 0.987719 Test accuracy: 0.804\n",
      "18 Train accuracy: 0.99184 Test accuracy: 0.804\n",
      "19 Train accuracy: 0.994021 Test accuracy: 0.8\n",
      "20 Train accuracy: 0.996203 Test accuracy: 0.8\n",
      "21 Train accuracy: 0.997172 Test accuracy: 0.798\n",
      "22 Train accuracy: 0.99798 Test accuracy: 0.797\n",
      "23 Train accuracy: 0.868789 Test accuracy: 0.746\n",
      "24 Train accuracy: 0.926073 Test accuracy: 0.775\n",
      "25 Train accuracy: 0.946514 Test accuracy: 0.762\n",
      "26 Train accuracy: 0.960249 Test accuracy: 0.759\n",
      "27 Train accuracy: 0.969621 Test accuracy: 0.761\n",
      "28 Train accuracy: 0.977377 Test accuracy: 0.766\n",
      "29 Train accuracy: 0.982225 Test accuracy: 0.762\n",
      "30 Train accuracy: 0.985699 Test accuracy: 0.756\n",
      "31 Train accuracy: 0.929143 Test accuracy: 0.755\n",
      "32 Train accuracy: 0.962753 Test accuracy: 0.761\n",
      "33 Train accuracy: 0.974388 Test accuracy: 0.762\n",
      "34 Train accuracy: 0.980852 Test accuracy: 0.768\n",
      "35 Train accuracy: 0.985699 Test accuracy: 0.772\n",
      "36 Train accuracy: 0.989739 Test accuracy: 0.766\n",
      "37 Train accuracy: 0.992325 Test accuracy: 0.768\n",
      "38 Train accuracy: 0.994344 Test accuracy: 0.764\n",
      "39 Train accuracy: 0.995475 Test accuracy: 0.762\n"
     ]
    }
   ],
   "source": [
    "init = tf.global_variables_initializer()\n",
    "saver = tf.train.Saver()\n",
    "\n",
    "n_epochs = 40\n",
    "batch_size = 50\n",
    "\n",
    "with tf.Session() as sess:\n",
    "    init.run()\n",
    "    for epoch in range(n_epochs):\n",
    "        for iteration in range((len(X_train)+len(X_test)) // batch_size):\n",
    "            sess.run(training_op, feed_dict={X: X_train, y: y_train})\n",
    "        acc_train = accuracy.eval(feed_dict={X: X_train, y: y_train})\n",
    "        acc_test = accuracy.eval(feed_dict={X: X_test,\n",
    "                                            y: y_test})\n",
    "        print(epoch, \"Train accuracy:\", acc_train, \"Test accuracy:\", acc_test)\n",
    "\n",
    "    save_path = saver.save(sess, \"./my_model_final.ckpt\")\n",
    "    "
   ]
  },
  {
   "cell_type": "code",
   "execution_count": 47,
   "metadata": {},
   "outputs": [
    {
     "name": "stdout",
     "output_type": "stream",
     "text": [
      "26.0\n"
     ]
    }
   ],
   "source": []
  },
  {
   "cell_type": "code",
   "execution_count": 48,
   "metadata": {},
   "outputs": [
    {
     "name": "stdout",
     "output_type": "stream",
     "text": [
      "INFO:tensorflow:Restoring parameters from ./my_model_final.ckpt\n",
      "[26]\n"
     ]
    }
   ],
   "source": [
    "Y_proba=tf.argmax(logits,1)\n",
    "\n",
    "feed_dict = {X: np.reshape(X_test[1],(1,512))}\n",
    "with tf.Session() as sess:\n",
    "    saver.restore(sess, \"./my_model_final.ckpt\")\n",
    "    y = Y_proba.eval(feed_dict=feed_dict)\n",
    "    print(y)"
   ]
  },
  {
   "cell_type": "code",
   "execution_count": 25,
   "metadata": {},
   "outputs": [
    {
     "name": "stdout",
     "output_type": "stream",
     "text": [
      "INFO:tensorflow:Restoring parameters from ./chord_recognizer_model.ckpt\n",
      "[[  5.29848018e-27   6.02447337e-20   2.01454312e-23 ...,   6.03477020e-30\n",
      "    8.68241493e-30   0.00000000e+00]\n",
      " [  2.24837374e-22   4.61395848e-38   8.41620416e-26 ...,   2.81289287e-15\n",
      "    3.71592485e-18   5.36249693e-18]\n",
      " [  6.35865050e-08   6.91016827e-11   6.21579180e-17 ...,   2.46286880e-10\n",
      "    2.03620475e-18   1.81750500e-11]\n",
      " ..., \n",
      " [  0.00000000e+00   0.00000000e+00   1.25717458e-37 ...,   0.00000000e+00\n",
      "    0.00000000e+00   0.00000000e+00]\n",
      " [  1.20730035e-19   3.46691281e-35   1.35972608e-19 ...,   4.53987398e-34\n",
      "    2.90763285e-33   2.08454041e-34]\n",
      " [  0.00000000e+00   0.00000000e+00   0.00000000e+00 ...,   0.00000000e+00\n",
      "    1.91360724e-31   9.95101785e-25]]\n"
     ]
    }
   ],
   "source": [
    "with tf.Session() as sess:\n",
    "    saver.restore(sess, \"./chord_recognizer_model.ckpt\")\n",
    "    y = (Y_proba.eval(feed_dict={X:X_test}))\n",
    "    print(y)"
   ]
  },
  {
   "cell_type": "code",
   "execution_count": 51,
   "metadata": {},
   "outputs": [
    {
     "name": "stdout",
     "output_type": "stream",
     "text": [
      "12377\n"
     ]
    }
   ],
   "source": [
    "print(len(np.unique(y_train))"
   ]
  }
 ],
 "metadata": {
  "kernelspec": {
   "display_name": "Python 3",
   "language": "python",
   "name": "python3"
  },
  "language_info": {
   "codemirror_mode": {
    "name": "ipython",
    "version": 3
   },
   "file_extension": ".py",
   "mimetype": "text/x-python",
   "name": "python",
   "nbconvert_exporter": "python",
   "pygments_lexer": "ipython3",
   "version": "3.5.3"
  }
 },
 "nbformat": 4,
 "nbformat_minor": 2
}
