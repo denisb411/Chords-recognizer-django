{
 "cells": [
  {
   "cell_type": "code",
   "execution_count": 2,
   "metadata": {
    "collapsed": true
   },
   "outputs": [],
   "source": [
    "# To support both python 2 and python 3\n",
    "from __future__ import division, print_function, unicode_literals\n",
    "\n",
    "# Common imports\n",
    "import numpy as np\n",
    "import os\n",
    "\n",
    "# to make this notebook's output stable across runs\n",
    "def reset_graph(seed=42):\n",
    "    tf.reset_default_graph()\n",
    "    tf.set_random_seed(seed)\n",
    "    np.random.seed(seed)\n",
    "\n",
    "# To plot pretty figures\n",
    "%matplotlib inline\n",
    "import matplotlib\n",
    "import matplotlib.pyplot as plt\n",
    "plt.rcParams['axes.labelsize'] = 14\n",
    "plt.rcParams['xtick.labelsize'] = 12\n",
    "plt.rcParams['ytick.labelsize'] = 12"
   ]
  },
  {
   "cell_type": "code",
   "execution_count": 3,
   "metadata": {
    "collapsed": true
   },
   "outputs": [],
   "source": [
    "import sys\n",
    "sys.path.append('../../../')\n",
    "\n",
    "from tensorflow_models import CNNClassifier\n",
    "import tensorflow as tf"
   ]
  },
  {
   "cell_type": "code",
   "execution_count": 4,
   "metadata": {},
   "outputs": [
    {
     "name": "stdout",
     "output_type": "stream",
     "text": [
      "[  0.   0.   0. ...,  45.  45.  45.]\n",
      "3214\n",
      "18.0\n",
      "(3214, 12, 80, 1)\n"
     ]
    }
   ],
   "source": [
    "processedDataX_path = \"../../preprocessedSamples_cut_500_X_samples_allGuitar_20480_Mm7_R1D.data\"\n",
    "processedDatay_path = \"../../preprocessedSamples_cut_500_y_samples_allGuitar_20480_Mm7_R1D.data\"\n",
    "processedData_path = \"\"\n",
    "\n",
    "if os.path.isfile(processedDataX_path): #if already preprocessed\n",
    "    processedX = np.load(processedDataX_path)\n",
    "    processedy = np.load(processedDatay_path)\n",
    "else:\n",
    "    import pandas as pd\n",
    "    import librosa\n",
    "    df = pd.read_csv('../../samples_allGuitar_20480_Mm7_R1D.csv')\n",
    "\n",
    "    X_load = np.array(df.iloc[:,:-1], dtype=np.float)\n",
    "    y_load = np.array(df.iloc[:,-1], dtype=np.float)\n",
    "    processedX = np.zeros((len(X_load),12,80,1), dtype=np.float)\n",
    "    processedy = np.zeros(len(y_load), dtype=np.float)\n",
    "    X_fft_new = np.zeros(20480)\n",
    "    for i in range(len(X_load)):\n",
    "        sample = np.fft.rfft(X_load[i])\n",
    "        for ii in range(len(sample)):\n",
    "            if ii < 500: #ignore frequencies greater than 2kHz\n",
    "                X_fft_new[ii] = sample[ii]\n",
    "                \n",
    "        sample = np.fft.ifft(X_fft_new)\n",
    "        sample = librosa.feature.chroma_stft(y=sample, sr=44100, n_fft=20480, hop_length=258)\n",
    "        sample = np.atleast_3d(sample)\n",
    "        processedX[i] = sample\n",
    "        processedy[i] = y_load[i]\n",
    "        if i % 400 == 0:\n",
    "            print(i)\n",
    "\n",
    "    processedX.dump(processedDataX_path)\n",
    "    processedy.dump(processedDatay_path)\n",
    "\n",
    "from sklearn.utils import shuffle\n",
    "print(processedy)\n",
    "sprocessedX, sprocessedy = shuffle(processedX, processedy)\n",
    "print(len(sprocessedX))\n",
    "\n",
    "trainRange = int(len(sprocessedX) * 0.8)\n",
    "validRange = int(len(sprocessedX) * 0.9)\n",
    "testRange = int(len(sprocessedX) * 0.1)\n",
    "\n",
    "\n",
    "X_train = np.array(sprocessedX[:trainRange], dtype=np.float)\n",
    "y_train = np.array(sprocessedy[:trainRange], dtype=np.float)\n",
    "\n",
    "X_valid = np.array(sprocessedX[trainRange:validRange], dtype=np.float)\n",
    "y_valid = np.array(sprocessedy[trainRange:validRange], dtype=np.float)\n",
    "\n",
    "X_test = np.array(sprocessedX[testRange:], dtype=np.float)\n",
    "y_test = np.array(sprocessedy[testRange:], dtype=np.float)\n",
    "print(y_test[1])\n",
    "print(sprocessedX.shape)"
   ]
  },
  {
   "cell_type": "code",
   "execution_count": 7,
   "metadata": {},
   "outputs": [
    {
     "ename": "SyntaxError",
     "evalue": "invalid syntax (<ipython-input-7-5d7a55e34d5e>, line 9)",
     "output_type": "error",
     "traceback": [
      "\u001b[1;36m  File \u001b[1;32m\"<ipython-input-7-5d7a55e34d5e>\"\u001b[1;36m, line \u001b[1;32m9\u001b[0m\n\u001b[1;33m    conv2={'conv2_fmaps': 16, 'conv2_ksize': 5, 'conv2_stride': 1, 'conv2_dropout': 0.3, 'conv2_activation': tf.nn.relu,\u001b[0m\n\u001b[1;37m         ^\u001b[0m\n\u001b[1;31mSyntaxError\u001b[0m\u001b[1;31m:\u001b[0m invalid syntax\n"
     ]
    }
   ],
   "source": [
    "def leaky_relu(alpha=0.01):\n",
    "\tdef parametrized_leaky_relu(z, name=None):\n",
    "\t\treturn tf.maximum(alpha * z, z, name=name)\n",
    "\treturn parametrized_leaky_relu\n",
    "\n",
    "model = CNNClassifier(n_hidden_layers=1, n_neurons=400, optimizer_class=tf.train.AdamOptimizer,\n",
    "                    learning_rate=0.05, batch_size=200, activation=leaky_relu(), dropout_rate=0.1,\n",
    "                    conv1={'conv1_fmaps': 16, 'conv1_ksize': 5, 'conv1_stride': 1, 'conv1_dropout': 0.3, 'conv1_activation': tf.nn.relu,\n",
    "                    conv2={'conv2_fmaps': 16, 'conv2_ksize': 5, 'conv2_stride': 1, 'conv2_dropout': 0.3, 'conv2_activation': tf.nn.relu,\n",
    "                    architecture=1)\n",
    "\n",
    "model.fit(X_train, y_train, X_valid=X_valid, y_valid=y_valid)\n",
    "model.accuracy_score(X_test, y_test)\n",
    "\n",
    "trained_model_file = '../../../saved_models/saved-model-final.ckpt'\n",
    "\n",
    "\n",
    "model.save(trained_model_file)"
   ]
  },
  {
   "cell_type": "code",
   "execution_count": null,
   "metadata": {
    "collapsed": true
   },
   "outputs": [],
   "source": []
  },
  {
   "cell_type": "code",
   "execution_count": null,
   "metadata": {
    "collapsed": true
   },
   "outputs": [],
   "source": []
  },
  {
   "cell_type": "code",
   "execution_count": null,
   "metadata": {
    "collapsed": true
   },
   "outputs": [],
   "source": []
  },
  {
   "cell_type": "code",
   "execution_count": null,
   "metadata": {
    "collapsed": true
   },
   "outputs": [],
   "source": []
  },
  {
   "cell_type": "code",
   "execution_count": null,
   "metadata": {
    "collapsed": true
   },
   "outputs": [],
   "source": []
  }
 ],
 "metadata": {
  "kernelspec": {
   "display_name": "Python 3",
   "language": "python",
   "name": "python3"
  },
  "language_info": {
   "codemirror_mode": {
    "name": "ipython",
    "version": 3
   },
   "file_extension": ".py",
   "mimetype": "text/x-python",
   "name": "python",
   "nbconvert_exporter": "python",
   "pygments_lexer": "ipython3",
   "version": "3.6.2"
  }
 },
 "nbformat": 4,
 "nbformat_minor": 2
}
